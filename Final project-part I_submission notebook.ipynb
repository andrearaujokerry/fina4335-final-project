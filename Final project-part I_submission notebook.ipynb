{
 "cells": [
  {
   "cell_type": "markdown",
   "id": "702f9b62-88b7-4c39-8bf8-67fe0884eebf",
   "metadata": {},
   "source": [
    "<center> <b>\n",
    "        <span style=\"font-size:24px;\">FINA 4335 -Final Project-<span style=\"color:red;\">Part I <span></span></b>\n",
    "<center><span style=\"font-size:22px;\"><b>Due date: 12/11/2024 11:59 PM ET</b></span></center>  \n",
    "\n",
    "##### First name and Last name (team member 1):\n",
    "##### First name and Last name (team member 2):\n",
    "##### First name and Last name (team member 3):"
   ]
  },
  {
   "cell_type": "markdown",
   "id": "cf13a509-5c06-4753-84e5-6791b898b16b",
   "metadata": {},
   "source": [
    "## Instructions\n",
    "\n",
    "1. Please rename the notebook. It should have the following format: **Final Project_Part I_Lastname1_Lastname2** if there are 2 members in the team.\n",
    "1. Use this **template** and you are free to modify or add more code/markdown cells. \n",
    "1. After you answer all questions:\n",
    "    1. Restart your kernel and run all cells\n",
    "    1. Save your notebook and export your notebook as HTML\n",
    "    1. Submit the **notebook** and **HTML** to Canvas, under Final Group Project."
   ]
  },
  {
   "cell_type": "markdown",
   "id": "71ca7d4f-6bca-4e26-b383-8f73a9275c13",
   "metadata": {},
   "source": [
    "## Some Grading Guidelines\n",
    "1. All code cells (excluding evaluation cells) should be **executable**. \n",
    "    - Non-executable code cells will receive up to **50%** of grade deduction. To receive more partial credit for a non-executable code cell, ensure it includes sufficient comments.\n",
    "1.  <span style=\"color: blue;\">I grade on both **'correctness'** and **effort**</span>\n",
    "    - **Suppose you don’t know how to generate a specific variable, then you <span style=\"color: red;\">may use random values (with reasonable range) to replace the variable</span>. You will lose point for that variable but will get most credit for subsequent questions.**\n",
    "1. Write efficient and clean code\n",
    "    -  No repetitive code (An example of repetitive code: import the same csv file twice).\n",
    "    - Informative variable names (if not specified in the project description).\n",
    "    - Less than 2 uncommented `print`, `.describe()`, or similar quality check in every code cell or every 5 lines of code.\n",
    "    - Every 2 occurrence of inefficient or unclean code will receive **1 point deduction**\n",
    "1. Include sufficient comments (at least 1 comment every 3 lines of code)\n",
    "      - Failure to include sufficient comments will result in a **5 points** grade deduction\n",
    "1. Format the markdown file such as including headings and brief question description\n",
    "1. Use the methods and formulas **covered in the lecture notebooks**; Using formulas inconsistent to the lecture notebooks receives 20% of grade penalty\n",
    "1. Reasonable code execution time\n",
    "   - The code execution time for Part I should be less than 5 minutes, otherwise **deduct 1 point for every 5 minutes more code execuation time**\n",
    "1. **10% of grade penalty per day late, receive 0% if the project is submitted after Dec 13 11:59 PM ET.**"
   ]
  },
  {
   "cell_type": "code",
   "execution_count": null,
   "id": "9442c84f-ce31-4798-aa94-a7b3e3a08ebc",
   "metadata": {},
   "outputs": [],
   "source": [
    "# import some packages\n",
    "# you may need to import more packages\n",
    "import pandas as pd\n",
    "import numpy as np\n",
    "import pandas_datareader.data as pdr\n",
    "import matplotlib.pyplot as plt\n",
    "import datetime\n",
    "import warnings\n",
    "import time\n",
    "# Suppress some annoying warnings \n",
    "warnings.filterwarnings(\"ignore\", message=\".*date_parser.*\")\n",
    "# Measure execution time\n",
    "start_time = time.time()  # Start time"
   ]
  },
  {
   "cell_type": "markdown",
   "id": "3a057729-53d4-48a7-8c2d-751e8828a27d",
   "metadata": {},
   "source": [
    "## 1. Obtain asset returns\n",
    "\n",
    "### Download Fama-French 5 industry portfolios (2 points)"
   ]
  },
  {
   "cell_type": "code",
   "execution_count": null,
   "id": "35a08593-fd18-4903-b4a1-31b14b64ce9a",
   "metadata": {},
   "outputs": [],
   "source": [
    "# code provided; if you don't like my code you can change them\n",
    "start_date = '1995-01-01'; end_date = '2024-11-30'\n",
    "ff5ind_monthlyret = pdr.DataReader('5_Industry_Portfolios', 'famafrench', \n",
    "                                 start_date, end_date)[0]\n",
    "# Convert percentage returns to decimals \n",
    "ff5ind_monthlyret = ff5ind_monthlyret / 100"
   ]
  },
  {
   "cell_type": "code",
   "execution_count": null,
   "id": "e3fa402e-3a50-4bef-acb1-a284b87fdf33",
   "metadata": {},
   "outputs": [],
   "source": [
    "# Evaluation cell (for grading)\n",
    "print(\"\\nFirst 3 rows of monthly returns (`ff5ind_monthlyret`):\")\n",
    "print(ff5ind_monthlyret.head(3))\n",
    "print(\"\\nLast 3 rows of monthly returns (`ff5ind_monthlyret`):\")\n",
    "print(ff5ind_monthlyret.tail(3))"
   ]
  },
  {
   "cell_type": "markdown",
   "id": "9de4a667-7a06-44c1-9739-c40e80be6735",
   "metadata": {},
   "source": [
    "### Create three additional portfolios (15 points)"
   ]
  },
  {
   "cell_type": "code",
   "execution_count": null,
   "id": "4cb921d1-a7c0-4055-9ee1-6fa8c9df0355",
   "metadata": {},
   "outputs": [],
   "source": [
    "# Write your code in the provided code cell; you can add more cells (same applies below, no further repetition).\n",
    "\n"
   ]
  },
  {
   "cell_type": "code",
   "execution_count": null,
   "id": "c64ea156-e4f4-454a-9868-f7ad4376352f",
   "metadata": {
    "scrolled": true
   },
   "outputs": [],
   "source": [
    "# Evaluation cell (for grading)\n",
    "Extra_3assets.head()"
   ]
  },
  {
   "cell_type": "markdown",
   "id": "570cfb2e-85b8-431e-82fc-95ace5f3078a",
   "metadata": {},
   "source": [
    "#### Merge self-created portfolio returns with industry portfolio returns"
   ]
  },
  {
   "cell_type": "code",
   "execution_count": null,
   "id": "7f71cf57-91ed-4832-b70d-567fa2bb07b3",
   "metadata": {},
   "outputs": [],
   "source": []
  },
  {
   "cell_type": "code",
   "execution_count": null,
   "id": "00bce474-103e-4b9d-a407-df4d44215f05",
   "metadata": {},
   "outputs": [],
   "source": [
    "# Evaluation cell (for grading)\n",
    "print(assets_monthly.iloc[:,-5:].head())"
   ]
  },
  {
   "cell_type": "markdown",
   "id": "9711044e-9303-48d0-942a-f928220b59aa",
   "metadata": {},
   "source": [
    "#### Some basic visualization (add similar heading in the notebook later!)"
   ]
  },
  {
   "cell_type": "code",
   "execution_count": null,
   "id": "8a932ba0-9919-4212-adfc-18022a5a6ff6",
   "metadata": {},
   "outputs": [],
   "source": []
  },
  {
   "cell_type": "markdown",
   "id": "0f28bd3b-178f-44d1-b9c4-0c159473f21a",
   "metadata": {},
   "source": [
    "## 2. Technical trading (15 points)"
   ]
  },
  {
   "cell_type": "markdown",
   "id": "40d43811-c855-4aa3-aee3-092d1b6cb5fc",
   "metadata": {},
   "source": [
    "###  Simple moving average strategy with inflation (CPI) for each asset"
   ]
  },
  {
   "cell_type": "code",
   "execution_count": null,
   "id": "37ceece8-f95c-48e4-adc1-692decc7bf75",
   "metadata": {},
   "outputs": [],
   "source": [
    "# Download CPI data\n",
    "cpi_data = pdr.DataReader('CPIAUCNS', 'fred', start_date, end_date)\n",
    "# Rename the column to CPI \n",
    "cpi_data.rename(columns={'CPIAUCNS': 'CPI'}, inplace=True)\n",
    "\n",
    "\n"
   ]
  },
  {
   "cell_type": "code",
   "execution_count": null,
   "id": "23cca262-9d25-4e6b-9761-8a7a3258d537",
   "metadata": {},
   "outputs": [],
   "source": []
  },
  {
   "cell_type": "code",
   "execution_count": null,
   "id": "0bad01f4-cbfb-42b0-8cb5-a9584690b149",
   "metadata": {},
   "outputs": [],
   "source": [
    "# Evaluation cell (for grading)\n",
    "print(MAs_CPI_rets.head(3))\n",
    "print(MAs_CPI_rets.describe())"
   ]
  },
  {
   "cell_type": "markdown",
   "id": "64fc03fc-4dcd-4c89-8eb8-73e282066805",
   "metadata": {},
   "source": [
    "#### Some basic visualization "
   ]
  },
  {
   "cell_type": "code",
   "execution_count": null,
   "id": "07a14086-3bf1-4c66-9bc8-ca50175fa038",
   "metadata": {},
   "outputs": [],
   "source": []
  },
  {
   "cell_type": "markdown",
   "id": "46a4cf16-b10b-4ebb-9387-d33da39889b2",
   "metadata": {},
   "source": [
    "## 3. Portfolio evaluation (8 points)"
   ]
  },
  {
   "cell_type": "code",
   "execution_count": null,
   "id": "c20f7f0d-fc89-4604-b6a2-f5c8524dc91e",
   "metadata": {},
   "outputs": [],
   "source": []
  },
  {
   "cell_type": "code",
   "execution_count": null,
   "id": "eec8a0ed-b983-48fc-a0ee-8cd63153e96a",
   "metadata": {},
   "outputs": [],
   "source": [
    "# Evaluation cell (for grading)\n",
    "sharpe_by_asset"
   ]
  },
  {
   "cell_type": "code",
   "execution_count": null,
   "id": "71441934-e5af-4682-bf14-268f2003b25b",
   "metadata": {},
   "outputs": [],
   "source": [
    "# Evaluation cell (for grading)\n",
    "print(MDD_by_asset)"
   ]
  },
  {
   "cell_type": "markdown",
   "id": "c4cbd0e4-7642-4add-80f1-e53e9014266c",
   "metadata": {},
   "source": []
  },
  {
   "cell_type": "code",
   "execution_count": null,
   "id": "838066cb-fa4a-4fda-8078-5e7a5f993360",
   "metadata": {},
   "outputs": [],
   "source": [
    "end_time = time.time()  # End time\n",
    "execution_time = end_time - start_time\n",
    "# Calculate the number of full minutes\n",
    "minutes = int(execution_time // 60)\n",
    "# Calculate the remaining seconds\n",
    "seconds = int(execution_time % 60)  \n",
    "print(f\"Execution time for Part I of the project:{minutes} minutes and {seconds} seconds\")"
   ]
  }
 ],
 "metadata": {
  "kernelspec": {
   "display_name": "Python 3 (ipykernel)",
   "language": "python",
   "name": "python3"
  },
  "language_info": {
   "codemirror_mode": {
    "name": "ipython",
    "version": 3
   },
   "file_extension": ".py",
   "mimetype": "text/x-python",
   "name": "python",
   "nbconvert_exporter": "python",
   "pygments_lexer": "ipython3",
   "version": "3.9.13"
  }
 },
 "nbformat": 4,
 "nbformat_minor": 5
}
