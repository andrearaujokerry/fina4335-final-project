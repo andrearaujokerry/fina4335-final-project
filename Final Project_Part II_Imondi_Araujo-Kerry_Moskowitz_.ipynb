{
 "cells": [
  {
   "cell_type": "markdown",
   "id": "fae072b5-c9af-43cb-9619-b4baab613f53",
   "metadata": {},
   "source": [
    "<center><b>  <span style=\"font-size:24px;\">FINA 4335 -Final Project-<span style=\"color:red;\">Part II <span></span></b>\n",
    "<center><span style=\"font-size:22px;\"><b>Due date: 12/11/2024 11:59 PM ET</b></span></center>\n",
    "            \n",
    "##### First name and Last name (team member 1): Andre Araujo-Kerry\n",
    "##### First name and Last name (team member 2): Dominic Imondi\n",
    "##### First name and Last name (team member 3): Mikaela Moskowitz"
   ]
  },
  {
   "cell_type": "markdown",
   "id": "771ab249-0766-49f6-8a5e-03855cbb6664",
   "metadata": {
    "jp-MarkdownHeadingCollapsed": true
   },
   "source": [
    "## Instructions\n",
    "1. Please rename the notebook. It should have the following format: **Final Project_Part II_Lastname1_Lastname2** if there are 2 members in the team.\n",
    "1. Use this **template** and you are free to add more code/markdown cells. Change the markdown cells if necessary. Well format this notebook file.\n",
    "1. After you answer all questions:\n",
    "    1. Restart your kernel and run all cells\n",
    "    1. Save your notebook and export your notebook as HTML\n",
    "    1. Submit the **notebook** and **HTML** to Canvas, under Final Group Project."
   ]
  },
  {
   "cell_type": "markdown",
   "id": "66523d20-73d8-4fb2-8b3f-8d594b8afba6",
   "metadata": {},
   "source": [
    "## Some Grading Guidelines\n",
    "1. All code cells (excluding evaluation cells) should be **executable**. \n",
    "    - Non-executable code cells will receive up to **50%** of grade deduction. To receive more partial credit for a non-executable code cell, ensure it includes sufficient comments.\n",
    "1.  <span style=\"color: blue;\">I grade on both **correctness** and **effort**</span>\n",
    "    - **Suppose you don’t know how to generate a specific variable, then you <span style=\"color: red;\">may use random values (with somewhat reasonable range) to replace the variable</span>. You will lose point for that variable but will get most credit for subsequent questions.**\n",
    "1. Write efficient and clean code\n",
    "    -  No repetitive code (An example of repetitive code: import the same csv file twice).\n",
    "    - Informative variable names (if not specified in the project description).\n",
    "    - Less than 2 uncommented `print`, `.describe()`, or similar quality check in every code cell or every 5 lines of code.\n",
    "    - Every 2 occurrence of inefficient or inclean code will receive **1 point deduction**\n",
    "1. Preserve as many observations as possible\n",
    "    - Losing observations is considered partially incorrect code\n",
    "    - Do not fill NAs\n",
    "1. Include sufficient comments (at least 1 comment every 3 lines of code)\n",
    "      - Failure to include sufficient comments will result in a **5 points** grade deduction\n",
    "1. Format the markdown file such as including headings and brief question description\n",
    "1. Use the methods and formulas **covered in the lecture notebooks**. Using formulas inconsistent to the lecture notebooks receives 20% of grade penalty\n",
    "1. Reasonable code execution time\n",
    "   - The code execution time for this Part should be less than 20 minutes, otherwise **deduct 1 point for every 5 minutes more code execuation time**\n",
    "1. **10% of grade penalty per day late, receive 0% if the project is submitted after Dec 13 11:59 PM ET.**"
   ]
  },
  {
   "cell_type": "code",
   "execution_count": 1,
   "id": "59e5f521-bfbf-4286-aa82-9beed1cc9c3c",
   "metadata": {},
   "outputs": [],
   "source": [
    "import numpy as np\n",
    "import pandas as pd\n",
    "import datetime as dt\n",
    "import yfinance as yf\n",
    "import scipy.stats as stats \n",
    "import statsmodels.api as sm\n",
    "import pandas_datareader.data as web\n",
    "import matplotlib.pyplot as plt\n",
    "%matplotlib inline\n",
    "import time\n",
    "%config InlineBackend.figure_format = 'retina'\n",
    "# Measure execution time\n",
    "start_time_part2 = time.time()  # Start time"
   ]
  },
  {
   "cell_type": "markdown",
   "id": "041ca27e-cd32-4422-a528-90c3c82f6dc3",
   "metadata": {},
   "source": [
    "## Data preparation (5 points)\n",
    "**Explanation of variables in 'weekly_rets.csv'**\n",
    "\n",
    "- **DATE**: This variable represents the last trading day of each week.\n",
    "- **PERMNO**: This is a unique identifier assigned to each security.\n",
    "- **ret**: the stock's weekly return, expressed as a decimal.\n",
    "  \n",
    "**Explanation of variables in 'monthly_rets_funda.csv'**\n",
    "\n",
    "- **DATE**: This variable represents the last trading day of each month.\n",
    "- **PERMNO**: This is a unique identifier assigned to each security.\n",
    "- **PRC**: reflects the **unadjusted** close price of a stock on the last trading day of the month. This value is the raw closing price without adjustments for corporate actions such as stock splits, dividends, or other modifications.\n",
    "- **RET**: the stock's monthly return, expressed as a decimal. \n",
    "- **SHROUT**: The **shares outstanding** (SHROUT) variable represents the number of shares (in thousands) of a company’s stock that are currently held by all shareholders.\n",
    "- **revenues**:  This variable represents the total revenues for a specific fiscal year. The variable is already 'lagged'."
   ]
  },
  {
   "cell_type": "code",
   "execution_count": 2,
   "id": "9b467d4a-08dd-47e9-90d4-e4fdc0d2135c",
   "metadata": {},
   "outputs": [],
   "source": [
    "# Write your code in the provided code cell; you can add more cells (same applies below, no further repetition).\n",
    "\n",
    "#read weekly_rets\n",
    "weekly_rets = pd.read_csv('weekly_rets.csv')\n",
    "#parse DATE column to datetime format\n",
    "weekly_rets['DATE'] = pd.to_datetime(weekly_rets['DATE'],format='%Y%m%d')\n",
    "#sort values by PERMNO and DATE\n",
    "weekly_rets.sort_values(['PERMNO','DATE'], inplace=True)\n",
    "\n",
    "#read monthly_rets_funda\n",
    "monthly_rets = pd.read_csv('monthly_rets_funda.csv')\n",
    "#parse DATE column to datetime format\n",
    "monthly_rets['DATE'] = pd.to_datetime(monthly_rets['DATE'],format='%Y%m%d')\n",
    "#sort values by PERMNO and DATE\n",
    "monthly_rets.sort_values(['PERMNO','DATE'], inplace=True)"
   ]
  },
  {
   "cell_type": "code",
   "execution_count": 3,
   "id": "c780995f-8387-4f4d-966b-8e65d34e7859",
   "metadata": {},
   "outputs": [
    {
     "name": "stdout",
     "output_type": "stream",
     "text": [
      "        DATE  PERMNO       ret\n",
      "0 2008-01-04   10001 -0.028264\n",
      "1 2008-01-11   10001 -0.013150\n",
      "2 2008-01-18   10001 -0.004682\n",
      "3 2008-01-25   10001  0.002904\n",
      "4 2008-02-01   10001  0.026923\n",
      "        DATE  PERMNO        PRC       RET    SHROUT  revenues\n",
      "0 2008-01-31   10001  13.986000 -0.006076  2872.125    84.278\n",
      "1 2008-02-29   10001   9.490400  0.021682  4340.655    84.278\n",
      "2 2008-03-31   10001   8.956035 -0.052463  4342.653    84.278\n",
      "3 2008-04-30   10001   8.591400 -0.036661  4342.653    84.278\n",
      "4 2008-05-30   10001  10.889100  0.271356  4342.653    84.278\n"
     ]
    }
   ],
   "source": [
    "# Evaluation cell (used for grading-I don't have a TA)\n",
    "# you don't need to worry at all if you think certain valuation cell is wrong (same applies below, no further repetition)\n",
    "print(weekly_rets.head())\n",
    "print(monthly_rets.head())"
   ]
  },
  {
   "cell_type": "markdown",
   "id": "d3c10bf2-4271-4529-a87a-c498f7c6906d",
   "metadata": {},
   "source": [
    "## Constructing factors (33 points; 15+8+5+5)"
   ]
  },
  {
   "cell_type": "markdown",
   "id": "ed995e29-4e2d-460f-a18b-5dd8d7a20301",
   "metadata": {},
   "source": [
    "### Create signals  (3*5=15 points)"
   ]
  },
  {
   "cell_type": "markdown",
   "id": "ea3d1af4-f18f-4a88-a28a-6a4365683d45",
   "metadata": {},
   "source": [
    "#### price_to_sales"
   ]
  },
  {
   "cell_type": "code",
   "execution_count": 73,
   "id": "1858b1be-c761-47a9-87cc-0a8a77d26369",
   "metadata": {},
   "outputs": [],
   "source": [
    "# revenue is already 'lagged'\n",
    "\n",
    "#create a copy of monthly_rets\n",
    "ptc_monthly = monthly_rets.copy()\n",
    "\n",
    "#lag the stock price and shares outstanding\n",
    "#revenue is already lagged so leave as-is\n",
    "ptc_monthly['PRC_lagged'] = ptc_monthly.groupby('PERMNO')['PRC'].shift(1)\n",
    "ptc_monthly['SHROUT_lagged'] = ptc_monthly.groupby('PERMNO')['SHROUT'].shift(1)\n",
    "\n",
    "#get sales figure (revenues / shares outstanding in month T - 1)\n",
    "ptc_monthly['Sales'] = ptc_monthly['revenues'] / ptc_monthly['SHROUT_lagged']\n",
    "#calculate price-to-sales (price in month T - 1 / sales)\n",
    "ptc_monthly['P/S'] = ptc_monthly['PRC_lagged'] / ptc_monthly['Sales']\n",
    "\n",
    "#drop N/A P/S values\n",
    "#TODO (monthly_rets left outer join ptc_monthly) to rejoin the tables and preserve all the observations\n",
    "ptc_monthly = ptc_monthly.dropna(subset=['P/S'])\n",
    "\n",
    "#add a price-to-sales bucket column\n",
    "ptc_monthly['ptc_bucket'] = (\n",
    "    #group by date to group individual months, and apply qcut on price-to-sales with 5 buckets\n",
    "    ptc_monthly.groupby('DATE', group_keys=False)['P/S']\n",
    "    .apply(pd.qcut, q=5, labels=np.arange(5) + 1)\n",
    ")\n",
    "\n",
    "#create the signal\n",
    "#1 for bottom quintile (long), -1 for top quintile (short), else np.nan\n",
    "ptc_monthly['price_to_sales'] = np.where(ptc_monthly['ptc_bucket'] == 1, 1, \n",
    "                                np.where(ptc_monthly['ptc_bucket'] == 5, -1, np.nan))"
   ]
  },
  {
   "cell_type": "code",
   "execution_count": 75,
   "id": "b90d65e7-76c6-4afa-98e5-adafd08a9639",
   "metadata": {},
   "outputs": [
    {
     "name": "stdout",
     "output_type": "stream",
     "text": [
      "        DATE  PERMNO        PRC       RET    SHROUT  revenues  PRC_lagged  \\\n",
      "1 2008-02-29   10001   9.490400  0.021682  4340.655    84.278   13.986000   \n",
      "2 2008-03-31   10001   8.956035 -0.052463  4342.653    84.278    9.490400   \n",
      "3 2008-04-30   10001   8.591400 -0.036661  4342.653    84.278    8.956035   \n",
      "4 2008-05-30   10001  10.889100  0.271356  4342.653    84.278    8.591400   \n",
      "5 2008-06-30   10001  10.739250 -0.010082  4344.651    84.278   10.889100   \n",
      "\n",
      "   SHROUT_lagged     Sales         P/S ptc_bucket  price_to_sales  \n",
      "1       2872.125  0.029343  476.631390          1             1.0  \n",
      "2       4340.655  0.019416  488.793667          2             NaN  \n",
      "3       4342.653  0.019407  461.484044          1             1.0  \n",
      "4       4342.653  0.019407  442.695235          1             1.0  \n",
      "5       4342.653  0.019407  561.090472          2             NaN  \n",
      "                                DATE         PERMNO            PRC  \\\n",
      "count                         500211  500211.000000  497848.000000   \n",
      "mean   2015-11-03 12:52:37.537919488   59431.742463      38.637712   \n",
      "min              2008-02-29 00:00:00   10001.000000       0.016983   \n",
      "25%              2011-08-31 00:00:00   19849.000000       5.674320   \n",
      "50%              2015-08-31 00:00:00   77175.000000      18.131850   \n",
      "75%              2019-11-29 00:00:00   87415.000000      42.847110   \n",
      "max              2023-12-29 00:00:00   93436.000000    6993.449750   \n",
      "std                              NaN   31664.323137     112.196052   \n",
      "\n",
      "                 RET        SHROUT       revenues     PRC_lagged  \\\n",
      "count  497834.000000  5.002110e+05  500211.000000  500211.000000   \n",
      "mean        0.010139  1.376435e+05    4162.297854      38.324100   \n",
      "min        -0.960890  8.991000e+00   -1964.999000       0.016983   \n",
      "25%        -0.069460  1.956791e+04      92.464000       5.674320   \n",
      "50%         0.003210  4.276819e+04     510.605000      18.051930   \n",
      "75%         0.074416  9.781359e+04    2209.126000      42.567390   \n",
      "max        17.587045  1.708543e+07  569962.000000    6370.952750   \n",
      "std         0.189849  4.759370e+05   18091.583164     111.024074   \n",
      "\n",
      "       SHROUT_lagged          Sales           P/S  price_to_sales  \n",
      "count   5.002110e+05  500211.000000  5.002110e+05   200194.000000  \n",
      "mean    1.374704e+05       0.031766  5.595493e+04        0.000180  \n",
      "min     8.991000e+00      -0.015302 -2.728105e+06       -1.000000  \n",
      "25%     1.956641e+04       0.003924  6.199979e+02       -1.000000  \n",
      "50%     4.268627e+04       0.013275  1.461391e+03        1.000000  \n",
      "75%     9.755535e+04       0.033140  3.508103e+03        1.000000  \n",
      "max     1.708543e+07      11.590375  4.236250e+08        1.000000  \n",
      "std     4.754451e+05       0.124246  2.284359e+06        1.000002  \n"
     ]
    }
   ],
   "source": [
    "# some quality check such as .describe() and print head of key variables\n",
    "print(ptc_monthly.head())\n",
    "print(ptc_monthly.describe())"
   ]
  },
  {
   "cell_type": "markdown",
   "id": "3e1cff9f-3b83-41f6-8ce2-a57bfb29034e",
   "metadata": {},
   "source": [
    "#### ret_2to12m"
   ]
  },
  {
   "cell_type": "code",
   "execution_count": 34,
   "id": "ed7b228b-55c4-4ff3-8861-3b767d10465c",
   "metadata": {},
   "outputs": [],
   "source": [
    "# Each signal is only worth 3 points. Suppose you don’t know how to generate a specific signal, then you may use random values \n",
    "# (with somewhat reasonable range) to replace the signal. You will lose 3 points but will get most credit for subsequent questions.\n",
    "\n",
    "#create a copy of monthly rets\n",
    "momentum_monthly = monthly_rets.copy()\n",
    "\n",
    "#lag the returns by 2 months (to get return at month T - 2)\n",
    "momentum_monthly['RET_lagged'] = momentum_monthly.groupby('PERMNO')['RET'].shift(2)\n",
    "\n",
    "#find the cumulative return for each 11 month period\n",
    "momentum_monthly['cumulative_ret'] = (\n",
    "    momentum_monthly.groupby('PERMNO')['RET_lagged'] #group by each asset\n",
    "    .rolling(window=11, min_periods=11) #rolling with 11 periods, from month t - 12 to month t - 2\n",
    "    .apply(lambda x: np.prod(1 + x) - 1, raw=False) #use np.prod to get cumulative returns\n",
    "    .reset_index(level=0, drop=True) #reset indices\n",
    ")\n",
    "\n",
    "#drop N/A cumulative return values\n",
    "#TODO (monthly_rets left outer join momentum_monthly) to rejoin the tables and preserve all the observations\n",
    "momentum_monthly = momentum_monthly.dropna(subset=['cumulative_ret'])\n",
    "\n",
    "#add a cumulative return bucket column\n",
    "momentum_monthly['cumulative_ret_bucket'] = (\n",
    "    #group by date to group individual months, and apply qcut on cumulative return with 5 buckets\n",
    "    momentum_monthly.groupby('DATE', group_keys=False)['cumulative_ret']\n",
    "    .apply(pd.qcut, q=5, labels=np.arange(5) + 1)\n",
    ")\n",
    "\n",
    "#create the signal\n",
    "#-1 for bottom quintile (short), 1 for top quintile (long), else np.nan\n",
    "momentum_monthly['ret_2to12m'] = np.where(momentum_monthly['cumulative_ret_bucket'] == 5, -1, \n",
    "                                 np.where(momentum_monthly['cumulative_ret_bucket'] == 1, 1, np.nan))"
   ]
  },
  {
   "cell_type": "code",
   "execution_count": 79,
   "id": "429640cf-2e85-4923-b5f2-7632ba70999c",
   "metadata": {},
   "outputs": [
    {
     "name": "stdout",
     "output_type": "stream",
     "text": [
      "         DATE  PERMNO       PRC       RET    SHROUT  revenues  RET_lagged  \\\n",
      "12 2009-01-30   10001  8.493498  0.034106  4292.703    59.373   -0.129991   \n",
      "13 2009-02-27   10001  8.931060  0.056166  4292.703    59.373    0.155833   \n",
      "14 2009-03-31   10001  8.171820 -0.080456  4295.700    59.373    0.034106   \n",
      "15 2009-04-30   10001  8.491500  0.044576  4295.700    59.373    0.056166   \n",
      "16 2009-05-29   10001  8.471520  0.002938  4349.646    59.373   -0.080456   \n",
      "\n",
      "    cumulative_ret cumulative_ret_bucket  ret_2to12m  \n",
      "12       -0.202369                     5        -1.0  \n",
      "13       -0.072436                     5        -1.0  \n",
      "14       -0.061156                     5        -1.0  \n",
      "15        0.046476                     5        -1.0  \n",
      "16       -0.001099                     5        -1.0  \n",
      "                                DATE         PERMNO            PRC  \\\n",
      "count                         455096  455096.000000  452984.000000   \n",
      "mean   2016-05-31 14:35:08.917678848   59550.206614      40.207298   \n",
      "min              2009-01-30 00:00:00   10001.000000       0.016983   \n",
      "25%              2012-06-29 00:00:00   19502.000000       5.554440   \n",
      "50%              2016-04-29 00:00:00   77202.000000      18.581400   \n",
      "75%              2020-03-31 00:00:00   87432.000000      44.745210   \n",
      "max              2023-12-29 00:00:00   93436.000000    6993.449750   \n",
      "std                              NaN   31655.445416     116.869104   \n",
      "\n",
      "                 RET        SHROUT       revenues     RET_lagged  \\\n",
      "count  452969.000000  4.550960e+05  439506.000000  455096.000000   \n",
      "mean        0.014217  1.396005e+05    4439.567284       0.012322   \n",
      "min        -0.971201  8.991000e+00   -1964.999000      -0.971201   \n",
      "25%        -0.065386  1.998200e+04     105.430000      -0.067243   \n",
      "50%         0.004845  4.353542e+04     567.963000       0.003794   \n",
      "75%         0.075271  9.880610e+04    2393.463000       0.074291   \n",
      "max        17.587045  1.708543e+07  569962.000000      17.587045   \n",
      "std         0.192617  4.827959e+05   18868.551229       0.191306   \n",
      "\n",
      "       cumulative_ret     ret_2to12m  \n",
      "count   455096.000000  182146.000000  \n",
      "mean         0.121297       0.000231  \n",
      "min         -0.998986      -1.000000  \n",
      "25%         -0.232361      -1.000000  \n",
      "50%          0.038438       1.000000  \n",
      "75%          0.308856       1.000000  \n",
      "max        105.350627       1.000000  \n",
      "std          0.862436       1.000003  \n"
     ]
    }
   ],
   "source": [
    "# some quality check such as .describe() and print head of key variables\n",
    "print(momentum_monthly.head())\n",
    "print(momentum_monthly.describe())"
   ]
  },
  {
   "cell_type": "markdown",
   "id": "960ce557-767f-40de-8f2a-4ed5220998b5",
   "metadata": {},
   "source": [
    "#### ret_2w"
   ]
  },
  {
   "cell_type": "code",
   "execution_count": 78,
   "id": "b601b4d5-92f3-4e7c-897c-b09f3b555358",
   "metadata": {},
   "outputs": [],
   "source": [
    "# Each signal is only worth 3 points. Suppose you don’t know how to generate a specific signal, then you may use random values \n",
    "# (with somewhat reasonable range) to replace the signal. You will lose 3 points but will get most credit for subsequent questions.\n",
    "\n",
    "#make a copy of monthly rets & add a month-year column for future merging\n",
    "ret_2w_monthly = monthly_rets.copy()\n",
    "ret_2w_monthly['month-year'] = ret_2w_monthly['DATE'].dt.to_period('M')\n",
    "\n",
    "#add a month-year column to organize weekly data by month\n",
    "weekly_rets['month-year'] = weekly_rets['DATE'].dt.to_period('M')\n",
    "\n",
    "#for every month, cumulative return is the sum of the last 2 weeks\n",
    "weekly_rets['cumulative_ret'] = (\n",
    "    weekly_rets.groupby(['PERMNO', 'month-year'])['ret']\n",
    "    .transform(lambda x: x.tail(2).sum())  # Sum the last 2 weeks for each group\n",
    ")\n",
    "\n",
    "#aggregate weekly data to get one monthly cumulative return\n",
    "weekly_monthly_agg = weekly_rets.groupby(['PERMNO', 'month-year'])['cumulative_ret'].last().reset_index()\n",
    "\n",
    "#merge weekly and monthly data on their month-year values\n",
    "ret_2w_monthly = pd.merge(ret_2w_monthly, weekly_monthly_agg, on=['PERMNO', 'month-year'], how='left')\n",
    "#lag the data by 1 year\n",
    "ret_2w_monthly['cumulative_ret_lagged'] = ret_2w_monthly.groupby('PERMNO')['cumulative_ret'].shift(1)\n",
    "\n",
    "#drop N/A cumulative return values\n",
    "#TODO (monthly_rets left outer join ret_2w_monthly) to rejoin the tables and preserve all the observations\n",
    "ret_2w_monthly = ret_2w_monthly.dropna(subset=['cumulative_ret_lagged'])\n",
    "\n",
    "#add a cumulative return bucket column\n",
    "ret_2w_monthly['cumulative_ret_bucket'] = (\n",
    "    #group by date to group individual months, and apply qcut on cumulative return with 5 buckets\n",
    "    ret_2w_monthly.groupby('DATE', group_keys=False)['cumulative_ret_lagged']\n",
    "    .apply(pd.qcut, q=5, labels=np.arange(5) + 1)\n",
    ")\n",
    "\n",
    "#create the signal\n",
    "#1 for bottom quintile (long), -1 for top quintile (short), else np.nan\n",
    "ret_2w_monthly['ret_2w'] = np.where(ret_2w_monthly['cumulative_ret_bucket'] == 1, 1, \n",
    "                                   np.where(ret_2w_monthly['cumulative_ret_bucket'] == 5, -1, np.nan))"
   ]
  },
  {
   "cell_type": "code",
   "execution_count": 81,
   "id": "e11f143a-976b-4842-a179-b412590399f5",
   "metadata": {},
   "outputs": [
    {
     "name": "stdout",
     "output_type": "stream",
     "text": [
      "        DATE  PERMNO        PRC       RET    SHROUT  revenues month-year  \\\n",
      "1 2008-02-29   10001   9.490400  0.021682  4340.655    84.278    2008-02   \n",
      "2 2008-03-31   10001   8.956035 -0.052463  4342.653    84.278    2008-03   \n",
      "3 2008-04-30   10001   8.591400 -0.036661  4342.653    84.278    2008-04   \n",
      "4 2008-05-30   10001  10.889100  0.271356  4342.653    84.278    2008-05   \n",
      "5 2008-06-30   10001  10.739250 -0.010082  4344.651    84.278    2008-06   \n",
      "\n",
      "   cumulative_ret  cumulative_ret_lagged cumulative_ret_bucket  ret_2w  \n",
      "1       -0.020056              -0.001779                     4     NaN  \n",
      "2       -0.020564              -0.020056                     3     NaN  \n",
      "3       -0.007235              -0.020564                     2     NaN  \n",
      "4        0.126358              -0.007235                     2     NaN  \n",
      "5        0.000727               0.126358                     5    -1.0  \n",
      "                                DATE         PERMNO            PRC  \\\n",
      "count                         521590  521590.000000  519102.000000   \n",
      "mean   2015-12-17 13:50:35.004504832   58576.259875      37.436261   \n",
      "min              2008-02-29 00:00:00   10001.000000       0.016983   \n",
      "25%              2011-10-31 00:00:00   18855.000000       5.164830   \n",
      "50%              2015-11-30 00:00:00   76788.000000      17.132850   \n",
      "75%              2020-01-31 00:00:00   87379.000000      41.568390   \n",
      "max              2023-12-29 00:00:00   93436.000000    6993.449750   \n",
      "std                              NaN   31985.719514     110.088941   \n",
      "\n",
      "                 RET        SHROUT       revenues  cumulative_ret  \\\n",
      "count  519086.000000  5.215900e+05  500224.000000   521590.000000   \n",
      "mean        0.009836  1.340893e+05    4162.193085        0.003669   \n",
      "min        -0.971201  8.991000e+00   -1964.999000       -1.616441   \n",
      "25%        -0.071974  1.958340e+04      92.424000       -0.044893   \n",
      "50%         0.002437  4.217378e+04     510.596500        0.001489   \n",
      "75%         0.074827  9.508457e+04    2209.126000        0.046161   \n",
      "max        17.587045  1.708543e+07  569962.000000       25.944023   \n",
      "std         0.199101  4.665744e+05   18091.359769        0.137746   \n",
      "\n",
      "       cumulative_ret_lagged         ret_2w  \n",
      "count          521590.000000  208756.000000  \n",
      "mean                0.003623       0.000230  \n",
      "min                -1.272574      -1.000000  \n",
      "25%                -0.045441      -1.000000  \n",
      "50%                 0.001229       1.000000  \n",
      "75%                 0.046245       1.000000  \n",
      "max                25.944023       1.000000  \n",
      "std                 0.136393       1.000002  \n"
     ]
    }
   ],
   "source": [
    "# some quality check such as .describe() and print head of key variables\n",
    "print(ret_2w_monthly.head())\n",
    "print(ret_2w_monthly.describe())"
   ]
  },
  {
   "cell_type": "markdown",
   "id": "bba36a24-fa15-483a-b9c0-f8d4a76211e2",
   "metadata": {},
   "source": [
    "#### mcap_quarter"
   ]
  },
  {
   "cell_type": "code",
   "execution_count": null,
   "id": "c206b089-2fe2-4889-a8c5-5cbef24b9843",
   "metadata": {},
   "outputs": [],
   "source": [
    "# Each signal is only worth 3 points. Suppose you don’t know how to generate a specific signal, then you may use random values \n",
    "# (with somewhat reasonable range) to replace the signal. You will lose 3 points but will get most credit for subsequent questions.\n"
   ]
  },
  {
   "cell_type": "code",
   "execution_count": null,
   "id": "c98c61e4-f0bc-4a05-830d-5c9ea23e1e43",
   "metadata": {},
   "outputs": [],
   "source": []
  },
  {
   "cell_type": "code",
   "execution_count": null,
   "id": "ef27961f-cc5a-471e-8c93-6fcc5477407b",
   "metadata": {},
   "outputs": [],
   "source": [
    "# some quality check such as .describe() and print head of key variables\n"
   ]
  },
  {
   "cell_type": "markdown",
   "id": "5baf15f1-b623-419c-b2be-25fa6d7cbc25",
   "metadata": {},
   "source": [
    "#### beta"
   ]
  },
  {
   "cell_type": "code",
   "execution_count": null,
   "id": "5e963546-7b56-499e-85a3-5fb0b988c59b",
   "metadata": {},
   "outputs": [],
   "source": [
    "# Each signal is only worth 3 points. Suppose you don’t know how to generate a specific signal, then you may use random values \n",
    "# (with somewhat reasonable range) to replace the signal. You will lose 3 points but will get most credit for subsequent questions.\n"
   ]
  },
  {
   "cell_type": "code",
   "execution_count": null,
   "id": "5ee6a10f-dac4-4e97-87f7-d64bc98b99a9",
   "metadata": {},
   "outputs": [],
   "source": []
  },
  {
   "cell_type": "code",
   "execution_count": null,
   "id": "51100750-9fd9-4081-968c-457db22b80b9",
   "metadata": {},
   "outputs": [],
   "source": [
    "# some quality check such as .describe() and print head of key variables\n"
   ]
  },
  {
   "cell_type": "code",
   "execution_count": null,
   "id": "38eb6342-9b21-41c0-ac52-ad3b709d8be3",
   "metadata": {
    "scrolled": true
   },
   "outputs": [],
   "source": [
    "#############################################################################################################################\n",
    "# Evaluation cell (used for grading-I don't have a TA)\n",
    "#############################################################################################################################\n",
    "some_vars = ['PERMNO','RET']+['price_to_sales', 'ret_2to12m', 'ret_2w', 'mcap_quarter', 'beta']\n",
    "print(mrets_with_signals[some_vars].head())\n",
    "mrets_with_signals[some_vars].describe()"
   ]
  },
  {
   "cell_type": "code",
   "execution_count": null,
   "id": "f4b8de12-f276-4f99-b8f5-986f69ab56e5",
   "metadata": {},
   "outputs": [],
   "source": [
    "# Evaluation cell (used for grading-I don't have a TA)\n",
    "mrets_with_signals.head()"
   ]
  },
  {
   "cell_type": "markdown",
   "id": "d1b60194-eedc-4632-a7b4-c44d1ecec002",
   "metadata": {},
   "source": [
    "### Form time-series portfolios (8 points) "
   ]
  },
  {
   "cell_type": "code",
   "execution_count": null,
   "id": "e0a75b44-0a5a-4639-bb09-925b28ed95da",
   "metadata": {},
   "outputs": [],
   "source": [
    "\n"
   ]
  },
  {
   "cell_type": "code",
   "execution_count": null,
   "id": "aa9042c8-d000-4c16-adb5-0957e770e9bc",
   "metadata": {},
   "outputs": [],
   "source": [
    "# Evaluation cell (used for grading-I don't have a TA)\n",
    "print(value_df.head())\n",
    "value_df.describe()"
   ]
  },
  {
   "cell_type": "code",
   "execution_count": null,
   "id": "223b55ac-21b9-4b97-a5c4-a6ab9f20fdb6",
   "metadata": {},
   "outputs": [],
   "source": [
    "# Evaluation cell (do not change; used for grading)\n",
    "print(momentum_df.head())\n",
    "momentum_df.describe()"
   ]
  },
  {
   "cell_type": "code",
   "execution_count": null,
   "id": "b3c1a748-1045-4274-94f8-725018915e94",
   "metadata": {},
   "outputs": [],
   "source": [
    "# Evaluation cell (used for grading-I don't have a TA)\n",
    "print(reversal_df.head())\n",
    "reversal_df.describe()"
   ]
  },
  {
   "cell_type": "code",
   "execution_count": null,
   "id": "87f1e193-5cb7-48e3-89c1-5d816dc1cc52",
   "metadata": {},
   "outputs": [],
   "source": [
    "# Evaluation cell (used for grading-I don't have a TA)\n",
    "print(size_df.head())\n",
    "size_df.describe()"
   ]
  },
  {
   "cell_type": "code",
   "execution_count": null,
   "id": "fec5d82b-643d-42bc-ba05-7ad425f93749",
   "metadata": {},
   "outputs": [],
   "source": [
    "# Evaluation cell (used for grading-I don't have a TA)\n",
    "print(beta_df.head())\n",
    "beta_df.describe()"
   ]
  },
  {
   "cell_type": "markdown",
   "id": "3bc29106-55f7-49e1-8cc5-f0684b1830e1",
   "metadata": {},
   "source": [
    "### plot (5 points)"
   ]
  },
  {
   "cell_type": "code",
   "execution_count": null,
   "id": "fc9378e8-c668-45ca-ad12-fc0c72287484",
   "metadata": {},
   "outputs": [],
   "source": []
  },
  {
   "cell_type": "markdown",
   "id": "3a45d7a1-bd8f-47ea-bd7c-76ce036fcc4e",
   "metadata": {},
   "source": [
    "### Save the 5 long-short factor returns in a DataFrame called `factors_df`. (Do not drop any missing values). (5 points)"
   ]
  },
  {
   "cell_type": "code",
   "execution_count": null,
   "id": "609e2295-d47c-4654-8bf7-a72b19f24a9a",
   "metadata": {},
   "outputs": [],
   "source": []
  },
  {
   "cell_type": "code",
   "execution_count": null,
   "id": "dfdfcaa3-b0ee-48a1-b7b1-7fd3e996e32c",
   "metadata": {},
   "outputs": [],
   "source": [
    "# Evaluation cell (used for grading-I don't have a TA)\n",
    "print(factors_df.head())\n",
    "factors_df.describe()"
   ]
  },
  {
   "cell_type": "markdown",
   "id": "c869692d-eac9-468a-bcfe-9d97d44e4740",
   "metadata": {},
   "source": [
    "## Evaluate the factors you created (14 points; 4+4+6)"
   ]
  },
  {
   "cell_type": "markdown",
   "id": "f483e9bd-e62e-403d-83cd-a083bf1f0dc0",
   "metadata": {},
   "source": [
    "### Estimate Fama-French 5-factor model for the 5 factor portfolios (in `factors_df`). Report the R squares, regression coefficients, and their p values in a single DataFrame called `ff5_factors_reg`. "
   ]
  },
  {
   "cell_type": "code",
   "execution_count": null,
   "id": "ea22f315-4068-4409-9991-d91cba7bf769",
   "metadata": {},
   "outputs": [],
   "source": []
  },
  {
   "cell_type": "markdown",
   "id": "c19a8215-8c98-4a3f-aba3-53dad2626412",
   "metadata": {},
   "source": [
    "### Create `factors_sumstat`. "
   ]
  },
  {
   "cell_type": "code",
   "execution_count": null,
   "id": "7fc313a0-53cf-4f4a-9d57-4431cf204dd5",
   "metadata": {},
   "outputs": [],
   "source": []
  },
  {
   "cell_type": "code",
   "execution_count": null,
   "id": "f900e7fc-e6d3-4a29-b401-34fbf072060a",
   "metadata": {},
   "outputs": [],
   "source": [
    "# Evaluation cell (used for grading-I don't have a TA)\n",
    "print(ff5_factors_reg)\n",
    "print(factors_sumstat)"
   ]
  },
  {
   "cell_type": "markdown",
   "id": "207ccbcc-0cf6-4743-ab43-d867968aee5e",
   "metadata": {},
   "source": [
    "### Summarize at least three takeaways related to investments based on your results in Part II so far. Cite credible sources that help explain and support your findings. (6 points)"
   ]
  },
  {
   "cell_type": "markdown",
   "id": "ecf79a77-a416-49f9-916f-f208554cca47",
   "metadata": {},
   "source": []
  },
  {
   "cell_type": "markdown",
   "id": "918c4320-8d7f-4bdd-b159-15d81cdb4a7c",
   "metadata": {},
   "source": [
    "## Factor combination strategy (‘Mission Impossible’) (8 points)\n",
    "-  You can get partial credit if you have reasonable code."
   ]
  },
  {
   "cell_type": "code",
   "execution_count": null,
   "id": "e4f7237e-2fa8-4eca-ba83-f99b7bbef3e8",
   "metadata": {},
   "outputs": [],
   "source": [
    "\n",
    "\n"
   ]
  },
  {
   "cell_type": "code",
   "execution_count": null,
   "id": "b89a587b-6347-416c-a032-da0e758636de",
   "metadata": {},
   "outputs": [],
   "source": [
    "# Evaluation cell (used for grading-I don't have a TA)\n",
    "impossible_df"
   ]
  },
  {
   "cell_type": "code",
   "execution_count": null,
   "id": "3ec4beec-5e86-42fb-bc54-d1cb49994375",
   "metadata": {},
   "outputs": [],
   "source": [
    "end_time_part2 = time.time()  # End time\n",
    "execution_time_part2 = end_time_part2 - start_time_part2\n",
    "# Calculate the number of full minutes\n",
    "minutes = int(execution_time_part2 // 60)\n",
    "# Calculate the remaining seconds\n",
    "seconds = int(execution_time_part2 % 60)  \n",
    "print(f\"Execution time for Part II of the project:{minutes} minutes and {seconds} seconds\")"
   ]
  }
 ],
 "metadata": {
  "kernelspec": {
   "display_name": "Python 3 (ipykernel)",
   "language": "python",
   "name": "python3"
  },
  "language_info": {
   "codemirror_mode": {
    "name": "ipython",
    "version": 3
   },
   "file_extension": ".py",
   "mimetype": "text/x-python",
   "name": "python",
   "nbconvert_exporter": "python",
   "pygments_lexer": "ipython3",
   "version": "3.12.4"
  }
 },
 "nbformat": 4,
 "nbformat_minor": 5
}
