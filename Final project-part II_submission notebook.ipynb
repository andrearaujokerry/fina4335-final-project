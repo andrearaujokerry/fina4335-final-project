{
 "cells": [
  {
   "cell_type": "markdown",
   "id": "fae072b5-c9af-43cb-9619-b4baab613f53",
   "metadata": {},
   "source": [
    "<center><b>  <span style=\"font-size:24px;\">FINA 4335 -Final Project-<span style=\"color:red;\">Part II <span></span></b>\n",
    "<center><span style=\"font-size:22px;\"><b>Due date: 12/11/2024 11:59 PM ET</b></span></center>\n",
    "            \n",
    "##### First name and Last name (team member 1):\n",
    "##### First name and Last name (team member 2):\n",
    "##### First name and Last name (team member 3):"
   ]
  },
  {
   "cell_type": "markdown",
   "id": "771ab249-0766-49f6-8a5e-03855cbb6664",
   "metadata": {
    "jp-MarkdownHeadingCollapsed": true
   },
   "source": [
    "## Instructions\n",
    "1. Please rename the notebook. It should have the following format: **Final Project_Part II_Lastname1_Lastname2** if there are 2 members in the team.\n",
    "1. Use this **template** and you are free to add more code/markdown cells. Change the markdown cells if necessary. Well format this notebook file.\n",
    "1. After you answer all questions:\n",
    "    1. Restart your kernel and run all cells\n",
    "    1. Save your notebook and export your notebook as HTML\n",
    "    1. Submit the **notebook** and **HTML** to Canvas, under Final Group Project."
   ]
  },
  {
   "cell_type": "markdown",
   "id": "66523d20-73d8-4fb2-8b3f-8d594b8afba6",
   "metadata": {},
   "source": [
    "## Some Grading Guidelines\n",
    "1. All code cells (excluding evaluation cells) should be **executable**. \n",
    "    - Non-executable code cells will receive up to **50%** of grade deduction. To receive more partial credit for a non-executable code cell, ensure it includes sufficient comments.\n",
    "1.  <span style=\"color: blue;\">I grade on both **correctness** and **effort**</span>\n",
    "    - **Suppose you don’t know how to generate a specific variable, then you <span style=\"color: red;\">may use random values (with somewhat reasonable range) to replace the variable</span>. You will lose point for that variable but will get most credit for subsequent questions.**\n",
    "1. Write efficient and clean code\n",
    "    -  No repetitive code (An example of repetitive code: import the same csv file twice).\n",
    "    - Informative variable names (if not specified in the project description).\n",
    "    - Less than 2 uncommented `print`, `.describe()`, or similar quality check in every code cell or every 5 lines of code.\n",
    "    - Every 2 occurrence of inefficient or inclean code will receive **1 point deduction**\n",
    "1. Preserve as many observations as possible\n",
    "    - Losing observations is considered partially incorrect code\n",
    "    - Do not fill NAs\n",
    "1. Include sufficient comments (at least 1 comment every 3 lines of code)\n",
    "      - Failure to include sufficient comments will result in a **5 points** grade deduction\n",
    "1. Format the markdown file such as including headings and brief question description\n",
    "1. Use the methods and formulas **covered in the lecture notebooks**. Using formulas inconsistent to the lecture notebooks receives 20% of grade penalty\n",
    "1. Reasonable code execution time\n",
    "   - The code execution time for this Part should be less than 20 minutes, otherwise **deduct 1 point for every 5 minutes more code execuation time**\n",
    "1. **10% of grade penalty per day late, receive 0% if the project is submitted after Dec 13 11:59 PM ET.**"
   ]
  },
  {
   "cell_type": "code",
   "execution_count": 1,
   "id": "59e5f521-bfbf-4286-aa82-9beed1cc9c3c",
   "metadata": {},
   "outputs": [],
   "source": [
    "import numpy as np\n",
    "import pandas as pd\n",
    "import datetime as dt\n",
    "import yfinance as yf\n",
    "import scipy.stats as stats \n",
    "import statsmodels.api as sm\n",
    "import pandas_datareader.data as web\n",
    "import matplotlib.pyplot as plt\n",
    "%matplotlib inline\n",
    "import time\n",
    "%config InlineBackend.figure_format = 'retina'\n",
    "# Measure execution time\n",
    "start_time_part2 = time.time()  # Start time"
   ]
  },
  {
   "cell_type": "markdown",
   "id": "041ca27e-cd32-4422-a528-90c3c82f6dc3",
   "metadata": {},
   "source": [
    "## Data preparation (5 points)\n",
    "**Explanation of variables in 'weekly_rets.csv'**\n",
    "\n",
    "- **DATE**: This variable represents the last trading day of each week.\n",
    "- **PERMNO**: This is a unique identifier assigned to each security.\n",
    "- **ret**: the stock's weekly return, expressed as a decimal.\n",
    "  \n",
    "**Explanation of variables in 'monthly_rets_funda.csv'**\n",
    "\n",
    "- **DATE**: This variable represents the last trading day of each month.\n",
    "- **PERMNO**: This is a unique identifier assigned to each security.\n",
    "- **PRC**: reflects the **unadjusted** close price of a stock on the last trading day of the month. This value is the raw closing price without adjustments for corporate actions such as stock splits, dividends, or other modifications.\n",
    "- **RET**: the stock's monthly return, expressed as a decimal. \n",
    "- **SHROUT**: The **shares outstanding** (SHROUT) variable represents the number of shares (in thousands) of a company’s stock that are currently held by all shareholders.\n",
    "- **revenues**:  This variable represents the total revenues for a specific fiscal year. The variable is already 'lagged'."
   ]
  },
  {
   "cell_type": "code",
   "execution_count": null,
   "id": "9b467d4a-08dd-47e9-90d4-e4fdc0d2135c",
   "metadata": {},
   "outputs": [],
   "source": [
    "# Write your code in the provided code cell; you can add more cells (same applies below, no further repetition).\n"
   ]
  },
  {
   "cell_type": "code",
   "execution_count": null,
   "id": "c780995f-8387-4f4d-966b-8e65d34e7859",
   "metadata": {},
   "outputs": [],
   "source": [
    "# Evaluation cell (used for grading-I don't have a TA)\n",
    "# you don't need to worry at all if you think certain valuation cell is wrong (same applies below, no further repetition)\n",
    "print(weekly_rets.head())\n",
    "print(monthly_rets.head())"
   ]
  },
  {
   "cell_type": "markdown",
   "id": "d3c10bf2-4271-4529-a87a-c498f7c6906d",
   "metadata": {},
   "source": [
    "## Constructing factors (33 points; 15+8+5+5)"
   ]
  },
  {
   "cell_type": "markdown",
   "id": "ed995e29-4e2d-460f-a18b-5dd8d7a20301",
   "metadata": {},
   "source": [
    "### Create signals  (3*5=15 points)"
   ]
  },
  {
   "cell_type": "markdown",
   "id": "ea3d1af4-f18f-4a88-a28a-6a4365683d45",
   "metadata": {},
   "source": [
    "#### price_to_sales"
   ]
  },
  {
   "cell_type": "code",
   "execution_count": null,
   "id": "1858b1be-c761-47a9-87cc-0a8a77d26369",
   "metadata": {},
   "outputs": [],
   "source": [
    "# revenue is already 'lagged'\n"
   ]
  },
  {
   "cell_type": "code",
   "execution_count": null,
   "id": "b90d65e7-76c6-4afa-98e5-adafd08a9639",
   "metadata": {},
   "outputs": [],
   "source": [
    "# some quality check such as .describe() and print head of key variables\n"
   ]
  },
  {
   "cell_type": "markdown",
   "id": "3e1cff9f-3b83-41f6-8ce2-a57bfb29034e",
   "metadata": {},
   "source": [
    "#### ret_2to12m"
   ]
  },
  {
   "cell_type": "code",
   "execution_count": null,
   "id": "ed7b228b-55c4-4ff3-8861-3b767d10465c",
   "metadata": {},
   "outputs": [],
   "source": [
    "# Each signal is only worth 3 points. Suppose you don’t know how to generate a specific signal, then you may use random values \n",
    "# (with somewhat reasonable range) to replace the signal. You will lose 3 points but will get most credit for subsequent questions.\n",
    "\n"
   ]
  },
  {
   "cell_type": "code",
   "execution_count": null,
   "id": "429640cf-2e85-4923-b5f2-7632ba70999c",
   "metadata": {},
   "outputs": [],
   "source": [
    "# some quality check such as .describe() and print head of key variables\n",
    "\n"
   ]
  },
  {
   "cell_type": "markdown",
   "id": "960ce557-767f-40de-8f2a-4ed5220998b5",
   "metadata": {},
   "source": [
    "#### ret_2w"
   ]
  },
  {
   "cell_type": "code",
   "execution_count": null,
   "id": "b601b4d5-92f3-4e7c-897c-b09f3b555358",
   "metadata": {},
   "outputs": [],
   "source": [
    "# Each signal is only worth 3 points. Suppose you don’t know how to generate a specific signal, then you may use random values \n",
    "# (with somewhat reasonable range) to replace the signal. You will lose 3 points but will get most credit for subsequent questions.\n",
    "\n"
   ]
  },
  {
   "cell_type": "code",
   "execution_count": null,
   "id": "3aed8ebb-2b1d-4206-9a15-3a9819dbe090",
   "metadata": {},
   "outputs": [],
   "source": []
  },
  {
   "cell_type": "code",
   "execution_count": null,
   "id": "e11f143a-976b-4842-a179-b412590399f5",
   "metadata": {},
   "outputs": [],
   "source": [
    "# some quality check such as .describe() and print head of key variables\n"
   ]
  },
  {
   "cell_type": "markdown",
   "id": "bba36a24-fa15-483a-b9c0-f8d4a76211e2",
   "metadata": {},
   "source": [
    "#### mcap_quarter"
   ]
  },
  {
   "cell_type": "code",
   "execution_count": null,
   "id": "c206b089-2fe2-4889-a8c5-5cbef24b9843",
   "metadata": {},
   "outputs": [],
   "source": [
    "# Each signal is only worth 3 points. Suppose you don’t know how to generate a specific signal, then you may use random values \n",
    "# (with somewhat reasonable range) to replace the signal. You will lose 3 points but will get most credit for subsequent questions.\n"
   ]
  },
  {
   "cell_type": "code",
   "execution_count": null,
   "id": "c98c61e4-f0bc-4a05-830d-5c9ea23e1e43",
   "metadata": {},
   "outputs": [],
   "source": []
  },
  {
   "cell_type": "code",
   "execution_count": null,
   "id": "ef27961f-cc5a-471e-8c93-6fcc5477407b",
   "metadata": {},
   "outputs": [],
   "source": [
    "# some quality check such as .describe() and print head of key variables\n"
   ]
  },
  {
   "cell_type": "markdown",
   "id": "5baf15f1-b623-419c-b2be-25fa6d7cbc25",
   "metadata": {},
   "source": [
    "#### beta"
   ]
  },
  {
   "cell_type": "code",
   "execution_count": null,
   "id": "5e963546-7b56-499e-85a3-5fb0b988c59b",
   "metadata": {},
   "outputs": [],
   "source": [
    "# Each signal is only worth 3 points. Suppose you don’t know how to generate a specific signal, then you may use random values \n",
    "# (with somewhat reasonable range) to replace the signal. You will lose 3 points but will get most credit for subsequent questions.\n"
   ]
  },
  {
   "cell_type": "code",
   "execution_count": null,
   "id": "5ee6a10f-dac4-4e97-87f7-d64bc98b99a9",
   "metadata": {},
   "outputs": [],
   "source": []
  },
  {
   "cell_type": "code",
   "execution_count": null,
   "id": "51100750-9fd9-4081-968c-457db22b80b9",
   "metadata": {},
   "outputs": [],
   "source": [
    "# some quality check such as .describe() and print head of key variables\n"
   ]
  },
  {
   "cell_type": "code",
   "execution_count": null,
   "id": "38eb6342-9b21-41c0-ac52-ad3b709d8be3",
   "metadata": {
    "scrolled": true
   },
   "outputs": [],
   "source": [
    "#############################################################################################################################\n",
    "# Evaluation cell (used for grading-I don't have a TA)\n",
    "#############################################################################################################################\n",
    "some_vars = ['PERMNO','RET']+['price_to_sales', 'ret_2to12m', 'ret_2w', 'mcap_quarter', 'beta']\n",
    "print(mrets_with_signals[some_vars].head())\n",
    "mrets_with_signals[some_vars].describe()"
   ]
  },
  {
   "cell_type": "code",
   "execution_count": null,
   "id": "f4b8de12-f276-4f99-b8f5-986f69ab56e5",
   "metadata": {},
   "outputs": [],
   "source": [
    "# Evaluation cell (used for grading-I don't have a TA)\n",
    "mrets_with_signals.head()"
   ]
  },
  {
   "cell_type": "markdown",
   "id": "d1b60194-eedc-4632-a7b4-c44d1ecec002",
   "metadata": {},
   "source": [
    "### Form time-series portfolios (8 points) "
   ]
  },
  {
   "cell_type": "code",
   "execution_count": null,
   "id": "e0a75b44-0a5a-4639-bb09-925b28ed95da",
   "metadata": {},
   "outputs": [],
   "source": [
    "\n"
   ]
  },
  {
   "cell_type": "code",
   "execution_count": null,
   "id": "aa9042c8-d000-4c16-adb5-0957e770e9bc",
   "metadata": {},
   "outputs": [],
   "source": [
    "# Evaluation cell (used for grading-I don't have a TA)\n",
    "print(value_df.head())\n",
    "value_df.describe()"
   ]
  },
  {
   "cell_type": "code",
   "execution_count": null,
   "id": "223b55ac-21b9-4b97-a5c4-a6ab9f20fdb6",
   "metadata": {},
   "outputs": [],
   "source": [
    "# Evaluation cell (do not change; used for grading)\n",
    "print(momentum_df.head())\n",
    "momentum_df.describe()"
   ]
  },
  {
   "cell_type": "code",
   "execution_count": null,
   "id": "b3c1a748-1045-4274-94f8-725018915e94",
   "metadata": {},
   "outputs": [],
   "source": [
    "# Evaluation cell (used for grading-I don't have a TA)\n",
    "print(reversal_df.head())\n",
    "reversal_df.describe()"
   ]
  },
  {
   "cell_type": "code",
   "execution_count": null,
   "id": "87f1e193-5cb7-48e3-89c1-5d816dc1cc52",
   "metadata": {},
   "outputs": [],
   "source": [
    "# Evaluation cell (used for grading-I don't have a TA)\n",
    "print(size_df.head())\n",
    "size_df.describe()"
   ]
  },
  {
   "cell_type": "code",
   "execution_count": null,
   "id": "fec5d82b-643d-42bc-ba05-7ad425f93749",
   "metadata": {},
   "outputs": [],
   "source": [
    "# Evaluation cell (used for grading-I don't have a TA)\n",
    "print(beta_df.head())\n",
    "beta_df.describe()"
   ]
  },
  {
   "cell_type": "markdown",
   "id": "3bc29106-55f7-49e1-8cc5-f0684b1830e1",
   "metadata": {},
   "source": [
    "### plot (5 points)"
   ]
  },
  {
   "cell_type": "code",
   "execution_count": null,
   "id": "fc9378e8-c668-45ca-ad12-fc0c72287484",
   "metadata": {},
   "outputs": [],
   "source": []
  },
  {
   "cell_type": "markdown",
   "id": "3a45d7a1-bd8f-47ea-bd7c-76ce036fcc4e",
   "metadata": {},
   "source": [
    "### Save the 5 long-short factor returns in a DataFrame called `factors_df`. (Do not drop any missing values). (5 points)"
   ]
  },
  {
   "cell_type": "code",
   "execution_count": null,
   "id": "609e2295-d47c-4654-8bf7-a72b19f24a9a",
   "metadata": {},
   "outputs": [],
   "source": []
  },
  {
   "cell_type": "code",
   "execution_count": null,
   "id": "dfdfcaa3-b0ee-48a1-b7b1-7fd3e996e32c",
   "metadata": {},
   "outputs": [],
   "source": [
    "# Evaluation cell (used for grading-I don't have a TA)\n",
    "print(factors_df.head())\n",
    "factors_df.describe()"
   ]
  },
  {
   "cell_type": "markdown",
   "id": "c869692d-eac9-468a-bcfe-9d97d44e4740",
   "metadata": {},
   "source": [
    "## Evaluate the factors you created (14 points; 4+4+6)"
   ]
  },
  {
   "cell_type": "markdown",
   "id": "f483e9bd-e62e-403d-83cd-a083bf1f0dc0",
   "metadata": {},
   "source": [
    "### Estimate Fama-French 5-factor model for the 5 factor portfolios (in `factors_df`). Report the R squares, regression coefficients, and their p values in a single DataFrame called `ff5_factors_reg`. "
   ]
  },
  {
   "cell_type": "code",
   "execution_count": null,
   "id": "ea22f315-4068-4409-9991-d91cba7bf769",
   "metadata": {},
   "outputs": [],
   "source": []
  },
  {
   "cell_type": "markdown",
   "id": "c19a8215-8c98-4a3f-aba3-53dad2626412",
   "metadata": {},
   "source": [
    "### Create `factors_sumstat`. "
   ]
  },
  {
   "cell_type": "code",
   "execution_count": null,
   "id": "7fc313a0-53cf-4f4a-9d57-4431cf204dd5",
   "metadata": {},
   "outputs": [],
   "source": []
  },
  {
   "cell_type": "code",
   "execution_count": null,
   "id": "f900e7fc-e6d3-4a29-b401-34fbf072060a",
   "metadata": {},
   "outputs": [],
   "source": [
    "# Evaluation cell (used for grading-I don't have a TA)\n",
    "print(ff5_factors_reg)\n",
    "print(factors_sumstat)"
   ]
  },
  {
   "cell_type": "markdown",
   "id": "207ccbcc-0cf6-4743-ab43-d867968aee5e",
   "metadata": {},
   "source": [
    "### Summarize at least three takeaways related to investments based on your results in Part II so far. Cite credible sources that help explain and support your findings. (6 points)"
   ]
  },
  {
   "cell_type": "markdown",
   "id": "ecf79a77-a416-49f9-916f-f208554cca47",
   "metadata": {},
   "source": []
  },
  {
   "cell_type": "markdown",
   "id": "918c4320-8d7f-4bdd-b159-15d81cdb4a7c",
   "metadata": {},
   "source": [
    "## Factor combination strategy (‘Mission Impossible’) (8 points)\n",
    "-  You can get partial credit if you have reasonable code."
   ]
  },
  {
   "cell_type": "code",
   "execution_count": null,
   "id": "e4f7237e-2fa8-4eca-ba83-f99b7bbef3e8",
   "metadata": {},
   "outputs": [],
   "source": [
    "\n",
    "\n"
   ]
  },
  {
   "cell_type": "code",
   "execution_count": null,
   "id": "b89a587b-6347-416c-a032-da0e758636de",
   "metadata": {},
   "outputs": [],
   "source": [
    "# Evaluation cell (used for grading-I don't have a TA)\n",
    "impossible_df"
   ]
  },
  {
   "cell_type": "code",
   "execution_count": null,
   "id": "3ec4beec-5e86-42fb-bc54-d1cb49994375",
   "metadata": {},
   "outputs": [],
   "source": [
    "end_time_part2 = time.time()  # End time\n",
    "execution_time_part2 = end_time_part2 - start_time_part2\n",
    "# Calculate the number of full minutes\n",
    "minutes = int(execution_time_part2 // 60)\n",
    "# Calculate the remaining seconds\n",
    "seconds = int(execution_time_part2 % 60)  \n",
    "print(f\"Execution time for Part II of the project:{minutes} minutes and {seconds} seconds\")"
   ]
  }
 ],
 "metadata": {
  "kernelspec": {
   "display_name": "Python 3 (ipykernel)",
   "language": "python",
   "name": "python3"
  },
  "language_info": {
   "codemirror_mode": {
    "name": "ipython",
    "version": 3
   },
   "file_extension": ".py",
   "mimetype": "text/x-python",
   "name": "python",
   "nbconvert_exporter": "python",
   "pygments_lexer": "ipython3",
   "version": "3.9.13"
  }
 },
 "nbformat": 4,
 "nbformat_minor": 5
}
